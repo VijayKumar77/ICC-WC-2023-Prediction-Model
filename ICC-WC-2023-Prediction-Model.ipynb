{
 "cells": [
  {
   "cell_type": "code",
   "execution_count": 2,
   "id": "89228147",
   "metadata": {},
   "outputs": [],
   "source": [
    "from bs4 import BeautifulSoup \n",
    "import requests \n",
    "import pandas as pd\n",
    "import csv"
   ]
  },
  {
   "cell_type": "code",
   "execution_count": 101,
   "id": "4bad7772",
   "metadata": {},
   "outputs": [],
   "source": [
    "\n",
    "teamQualified = {'6':'India'}\n",
    "teamResultTally = {'India':0,'Australia':0}\n",
    "urls = []\n",
    "results = []\n",
    "for i,j in teamQualified.items():\n",
    "    url = f\"https://www.espncricinfo.com/team/{j}-{i}/match-schedule-fixtures-and-results\"\n",
    "    urls.append(url)\n",
    "\n",
    "\n",
    "for u in urls:\n",
    "        response = requests.get(u)\n",
    "        htmlcontent = response.content\n",
    "        soup = BeautifulSoup(htmlcontent,\"html.parser\")\n",
    "        \n",
    "#         print(u)\n",
    "        for a in soup.find_all('div',attrs={'class':'ds-text-compact-xxs'}):\n",
    "            result = soup.find_all('p',attrs = {'class':'ds-text-tight-s ds-font-regular ds-line-clamp-2 ds-text-typo-title'})\n",
    "\n",
    "# for r in result: \n",
    "#                 print(r.text)\n"
   ]
  },
  {
   "cell_type": "code",
   "execution_count": 100,
   "id": "3f3d9859",
   "metadata": {},
   "outputs": [],
   "source": [
    "players = []\n",
    "ranking = []\n",
    "results = []\n",
    "\n",
    "url = \"http://www.relianceiccrankings.com/ranking/odi/batting/\"\n",
    "\n",
    "response = requests.get(url)\n",
    "htmlcontent = response.content\n",
    "soup = BeautifulSoup(htmlcontent,\"html.parser\")\n",
    "        \n",
    "for a in soup.find_all('tr'):\n",
    "        player = soup.find_all('a',attrs={'class':'players'})\n",
    "        c= 0\n",
    "        for p in player:\n",
    "            players.append(p.text)\n",
    "            c+=1\n",
    "            ranking.append(str(c))\n",
    "        break\n",
    "\n",
    "results.append(ranking)\n",
    "results.append(players)\n",
    "\n",
    "res = list(zip(*results))\n",
    "\n"
   ]
  },
  {
   "cell_type": "code",
   "execution_count": 141,
   "id": "9a437124",
   "metadata": {},
   "outputs": [],
   "source": [
    "teams = []\n",
    "ranking = []\n",
    "results = []\n",
    "\n",
    "url = \"https://www.icc-cricket.com/rankings/mens/team-rankings/odi\"\n",
    "\n",
    "response = requests.get(url)\n",
    "htmlcontent = response.content\n",
    "soup = BeautifulSoup(htmlcontent,\"html.parser\")\n",
    "        \n",
    "for a in soup.find_all('tr'):\n",
    "        team = soup.find_all('span',attrs={'class':'u-hide-phablet'})\n",
    "        c = 0\n",
    "        for t in team:\n",
    "            c+=1\n",
    "            teams.append(t.text)\n",
    "            ranking.append(str(c))\n",
    "        break\n",
    "\n",
    "results.append(ranking)\n",
    "results.append(teams)\n",
    "\n",
    "res = list(zip(*results))\n",
    "\n",
    "# for r in res:\n",
    "#     print(r)"
   ]
  },
  {
   "cell_type": "code",
   "execution_count": 149,
   "id": "1100a227",
   "metadata": {},
   "outputs": [
    {
     "name": "stdout",
     "output_type": "stream",
     "text": [
      "[['1', 'New Zealand'], ['2', 'England'], ['3', 'Australia'], ['4', 'India'], ['5', 'Pakistan'], ['6', 'South Africa'], ['7', 'Bangladesh'], ['8', 'Sri Lanka'], ['9', 'Afghanistan'], ['10', 'West Indies'], ['11', 'Ireland'], ['12', 'Scotland'], ['13', 'Zimbabwe'], ['14', 'Namibia'], ['15', 'Netherlands'], ['16', 'Oman'], ['17', 'UAE'], ['18', 'United States'], ['19', 'Nepal'], ['20', 'Papua New Guinea']]\n"
     ]
    }
   ],
   "source": [
    "# India, New Zealand, England, Australia, Bangladesh, Pakistan, Afghanistan\n",
    "\n",
    "urls = []\n",
    "for i in range(2018,2023):\n",
    "    url = f\"https://stats.espncricinfo.com/ci/engine/records/team/match_results.html?class=2;id={i};type=year\"\n",
    "    urls.append(url)\n",
    "\n",
    "matches = []\n",
    "winners = []\n",
    "\n",
    "\n",
    "dict = {'Team':['India','Australia','New Zealand','England','Bangladesh','Pakistan','Afghanistan'],\n",
    "        'Total_Matches':[0,0,0,0,0,0,0],\n",
    "        'Matches_Won':[0,0,0,0,0,0,0],\n",
    "        'Winning_Percentage':[0,0,0,0,0,0,0]\n",
    "       }\n",
    "\n",
    "for u in urls:\n",
    "\n",
    "        response = requests.get(u)\n",
    "        htmlcontent = response.content\n",
    "        soup = BeautifulSoup(htmlcontent,\"html.parser\")\n",
    "        \n",
    "        for row in soup.findAll('table')[0].tbody.findAll('tr'):\n",
    "            \n",
    "            first_column = row.findAll('td')[0].contents\n",
    "            for f1 in first_column: \n",
    "                matches.append(f1.text)\n",
    "            second_column = row.findAll('td')[1].contents\n",
    "            for f2 in second_column: \n",
    "                matches.append(f2.text)\n",
    "            third_column = row.findAll('td')[2].contents\n",
    "            for f3 in third_column: \n",
    "                winners.append(f3.text)\n",
    "        \n",
    "            \n",
    "\n",
    "\n",
    "for i in matches:\n",
    "    for j in range(len(dict['Team'])):\n",
    "        if dict['Team'][j]==i:\n",
    "            dict['Total_Matches'][j]+= 1\n",
    "\n",
    "            \n",
    "for i in winners:\n",
    "    for j in range(len(dict['Team'])):\n",
    "        if dict['Team'][j]==i:\n",
    "            dict['Matches_Won'][j]+= 1\n",
    "            \n",
    "for i in range(len(dict['Team'])):\n",
    "    dict['Winning_Percentage'][i] += round((dict['Matches_Won'][i]/dict['Total_Matches'][i])*100,2)\n",
    "            \n",
    "            \n",
    "new = pd.DataFrame.from_dict(dict)\n",
    "# print(new['Team'])\n",
    "\n",
    "team = [t for t in new['Team']] #list=list(new)\n",
    "rank = []\n",
    "for r in range(len(res)):\n",
    "    rank.append([res[r][0],res[r][1]])\n",
    "\n",
    "new['International_Ranking'] = [1,1,1,1,1,1,1]\n",
    "#print(new)\n",
    "print(rank)\n"
   ]
  },
  {
   "cell_type": "code",
   "execution_count": 150,
   "id": "bfb9e57b",
   "metadata": {},
   "outputs": [
    {
     "name": "stdout",
     "output_type": "stream",
     "text": [
      "['4', '3', '1', '2', '7', '5', '9']\n",
      "          Team  Total_Matches  Matches_Won  Winning_Percentage  \\\n",
      "0        India             87           54               62.07   \n",
      "1    Australia             69           37               53.62   \n",
      "2  New Zealand             57           37               64.91   \n",
      "3      England             76           46               60.53   \n",
      "4   Bangladesh             68           41               60.29   \n",
      "5     Pakistan             61           29               47.54   \n",
      "6  Afghanistan             55           27               49.09   \n",
      "\n",
      "  International_Ranking Team_Abbreviation  \n",
      "0                     4               IND  \n",
      "1                     3               AUS  \n",
      "2                     1                NZ  \n",
      "3                     2               ENG  \n",
      "4                     7               BAN  \n",
      "5                     5               PAK  \n",
      "6                     9               AFG  \n"
     ]
    }
   ],
   "source": [
    "new1=[]\n",
    "abb=['IND','AUS','NZ','ENG','BAN','PAK','AFG']\n",
    "for i in new['Team']:\n",
    "    for j in range(len(rank)):\n",
    "        if i==rank[j][1]:\n",
    "            new1.append(rank[j][0])\n",
    "print(new1)\n",
    "new['International_Ranking'] = new1\n",
    "new['Team_Abbreviation']=abb\n",
    "print(new)"
   ]
  },
  {
   "cell_type": "code",
   "execution_count": 151,
   "id": "8481758c",
   "metadata": {},
   "outputs": [],
   "source": [
    "new.to_csv('cricket.csv')"
   ]
  },
  {
   "cell_type": "code",
   "execution_count": 82,
   "id": "c0fcbbc4",
   "metadata": {},
   "outputs": [],
   "source": [
    "from pyspark.sql import SparkSession\n",
    "#from pyspark import SparkContext, SparkConf"
   ]
  },
  {
   "cell_type": "code",
   "execution_count": 83,
   "id": "cbff73f1",
   "metadata": {},
   "outputs": [],
   "source": [
    "import pyspark\n",
    "spark = SparkSession.builder.getOrCreate()"
   ]
  },
  {
   "cell_type": "code",
   "execution_count": 152,
   "id": "7db1f25b",
   "metadata": {},
   "outputs": [],
   "source": [
    "df=spark.read.csv('cricket.csv',header=True)"
   ]
  },
  {
   "cell_type": "code",
   "execution_count": 153,
   "id": "7d7d792a",
   "metadata": {},
   "outputs": [
    {
     "name": "stdout",
     "output_type": "stream",
     "text": [
      "+---+-----------+-------------+-----------+------------------+---------------------+-----------------+\n",
      "|_c0|       Team|Total_Matches|Matches_Won|Winning_Percentage|International_Ranking|Team_Abbreviation|\n",
      "+---+-----------+-------------+-----------+------------------+---------------------+-----------------+\n",
      "|  0|      India|           87|         54|             62.07|                    4|              IND|\n",
      "|  1|  Australia|           69|         37|             53.62|                    3|              AUS|\n",
      "|  2|New Zealand|           57|         37|             64.91|                    1|               NZ|\n",
      "|  3|    England|           76|         46|             60.53|                    2|              ENG|\n",
      "|  4| Bangladesh|           68|         41|             60.29|                    7|              BAN|\n",
      "|  5|   Pakistan|           61|         29|             47.54|                    5|              PAK|\n",
      "|  6|Afghanistan|           55|         27|             49.09|                    9|              AFG|\n",
      "+---+-----------+-------------+-----------+------------------+---------------------+-----------------+\n",
      "\n"
     ]
    }
   ],
   "source": [
    "df.show()"
   ]
  },
  {
   "cell_type": "code",
   "execution_count": 110,
   "id": "60f2d437",
   "metadata": {},
   "outputs": [],
   "source": [
    "country=[]\n",
    "l3=[]\n",
    "res1=[]\n",
    "url = \"http://www.relianceiccrankings.com/ranking/odi/batting/\"\n",
    "response = requests.get(url)\n",
    "htmlcontent = response.content\n",
    "soup = BeautifulSoup(htmlcontent,\"html.parser\")\n",
    "for a in soup.find_all('tr'):\n",
    "#     player = soup.find_all('a',attrs={'class':'players'})\n",
    "    team = soup.find_all('img')\n",
    "    for img in team:\n",
    "        alt_tag = img.attrs['alt']    \n",
    "        if alt_tag==\"ICC Cricket Rankings Logo\":\n",
    "            continue\n",
    "        country.append(alt_tag)\n",
    "    break    \n",
    "        \n",
    "l3.append(players)\n",
    "l3.append(country)\n",
    "\n",
    "res1 = list(zip(*l3))\n",
    "\n",
    "res=[]\n",
    "for i in range(len(res1)):\n",
    "    res.append([res1[i][0],res1[i][1]])\n",
    "      \n",
    "# print(res)\n"
   ]
  },
  {
   "cell_type": "code",
   "execution_count": 111,
   "id": "de0b7694",
   "metadata": {},
   "outputs": [],
   "source": [
    "# res.to_csv('player_country.csv')\n",
    "import csv\n",
    "\n",
    "with open(\"output.csv\", \"w\") as f:\n",
    "    writer = csv.writer(f)\n",
    "    writer.writerows(res)\n"
   ]
  },
  {
   "cell_type": "code",
   "execution_count": 114,
   "id": "dbdcb896",
   "metadata": {},
   "outputs": [],
   "source": [
    "# column=['Player Name','Country']\n",
    "# s=spark.read.csv('output.csv',header=True,column=column)\n",
    "\n",
    "df1 = spark.read.option(\"inferSchema\",\"true\").csv(\"output.csv\").toDF(\n",
    "  \"Player_Name\",\"Country\"\n",
    ")"
   ]
  },
  {
   "cell_type": "code",
   "execution_count": 115,
   "id": "9c063283",
   "metadata": {},
   "outputs": [
    {
     "name": "stdout",
     "output_type": "stream",
     "text": [
      "+--------------------+-------+\n",
      "|         Player_Name|Country|\n",
      "+--------------------+-------+\n",
      "|          Babar Azam|    PAK|\n",
      "|         Imam-ul-Haq|    PAK|\n",
      "|Rassie van der Du...|     SA|\n",
      "|     Quinton de Kock|     SA|\n",
      "|        David Warner|    AUS|\n",
      "|         Steve Smith|    AUS|\n",
      "|      Jonny Bairstow|    ENG|\n",
      "|         Virat Kohli|    IND|\n",
      "|        Rohit Sharma|    IND|\n",
      "|     Kane Williamson|     NZ|\n",
      "|        Fakhar Zaman|    PAK|\n",
      "|           Shai Hope|     WI|\n",
      "|            Joe Root|    ENG|\n",
      "|       Paul Stirling|    IRE|\n",
      "|        Shreyas Iyer|    IND|\n",
      "|         Tamim Iqbal|    BAN|\n",
      "|          Tom Latham|     NZ|\n",
      "|           Jason Roy|    ENG|\n",
      "|        David Miller|     SA|\n",
      "|     Mushfiqur Rahim|    BAN|\n",
      "+--------------------+-------+\n",
      "only showing top 20 rows\n",
      "\n"
     ]
    }
   ],
   "source": [
    "df1.show()"
   ]
  },
  {
   "cell_type": "code",
   "execution_count": 181,
   "id": "f03e6b93",
   "metadata": {},
   "outputs": [
    {
     "name": "stdout",
     "output_type": "stream",
     "text": [
      "+-------+---+\n",
      "|Country| PC|\n",
      "+-------+---+\n",
      "|     SL| 10|\n",
      "|    NEP|  1|\n",
      "|    ZIM|  3|\n",
      "|    AUS|  9|\n",
      "|     WI|  5|\n",
      "|    AFG|  6|\n",
      "|    PNG|  1|\n",
      "|     SA|  7|\n",
      "|    ENG|  6|\n",
      "|    SCO|  5|\n",
      "|    BAN|  7|\n",
      "|    NED|  3|\n",
      "|    PAK|  7|\n",
      "|    IRE|  3|\n",
      "|    USA|  4|\n",
      "|    NAM|  1|\n",
      "|    UAE|  1|\n",
      "|    OMA|  3|\n",
      "|     NZ|  8|\n",
      "|    IND| 10|\n",
      "+-------+---+\n",
      "\n"
     ]
    }
   ],
   "source": [
    "import pyspark.sql\n",
    "df1.createOrReplaceTempView(\"CP\")\n",
    "x=spark.sql(\"select Country,count(Player_Name) as PC from CP group by Country\")\n",
    "x.createOrReplaceTempView(\"CP\")\n",
    "x.show()"
   ]
  },
  {
   "cell_type": "code",
   "execution_count": 184,
   "id": "8722243e",
   "metadata": {},
   "outputs": [
    {
     "name": "stdout",
     "output_type": "stream",
     "text": [
      "+-----------+-------------+-----------+------------------+---------------------+---+\n",
      "|       Team|Total_Matches|Matches_Won|Winning_Percentage|International_Ranking| PC|\n",
      "+-----------+-------------+-----------+------------------+---------------------+---+\n",
      "|  Australia|           69|         37|             53.62|                    3|  9|\n",
      "|Afghanistan|           55|         27|             49.09|                    9|  6|\n",
      "|    England|           76|         46|             60.53|                    2|  6|\n",
      "| Bangladesh|           68|         41|             60.29|                    7|  7|\n",
      "|   Pakistan|           61|         29|             47.54|                    5|  7|\n",
      "|New Zealand|           57|         37|             64.91|                    1|  8|\n",
      "|      India|           87|         54|             62.07|                    4| 10|\n",
      "+-----------+-------------+-----------+------------------+---------------------+---+\n",
      "\n"
     ]
    }
   ],
   "source": [
    "df.createOrReplaceTempView(\"STATS\")\n",
    "d=spark.sql(\"select Team,Total_Matches,Matches_Won,Winning_Percentage,International_Ranking,PC from STATS , CP where STATS.Team_Abbreviation==CP.Country \")\n",
    "d.show()"
   ]
  },
  {
   "cell_type": "code",
   "execution_count": null,
   "id": "157754bd",
   "metadata": {},
   "outputs": [],
   "source": []
  }
 ],
 "metadata": {
  "kernelspec": {
   "display_name": "Python 3 (ipykernel)",
   "language": "python",
   "name": "python3"
  },
  "language_info": {
   "codemirror_mode": {
    "name": "ipython",
    "version": 3
   },
   "file_extension": ".py",
   "mimetype": "text/x-python",
   "name": "python",
   "nbconvert_exporter": "python",
   "pygments_lexer": "ipython3",
   "version": "3.9.13"
  }
 },
 "nbformat": 4,
 "nbformat_minor": 5
}
